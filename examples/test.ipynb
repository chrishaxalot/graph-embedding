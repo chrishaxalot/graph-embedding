{
 "cells": [
  {
   "cell_type": "code",
   "execution_count": 1,
   "metadata": {},
   "outputs": [
    {
     "name": "stderr",
     "output_type": "stream",
     "text": [
      "/home/cstaib/.local/lib/python3.8/site-packages/tqdm/auto.py:22: TqdmWarning: IProgress not found. Please update jupyter and ipywidgets. See https://ipywidgets.readthedocs.io/en/stable/user_install.html\n",
      "  from .autonotebook import tqdm as notebook_tqdm\n"
     ]
    }
   ],
   "source": [
    "import pandas as pd\n",
    "import numpy as np\n",
    "import networkx as nx\n",
    "import random\n",
    "import re\n",
    "\n",
    "from tqdm import tqdm\n",
    "\n",
    "from ogb.graphproppred import GraphPropPredDataset"
   ]
  },
  {
   "cell_type": "code",
   "execution_count": 2,
   "metadata": {},
   "outputs": [],
   "source": [
    "d_name = 'ogbg-molhiv'\n",
    "dataset = GraphPropPredDataset(name=d_name)\n",
    "split_idx = dataset.get_idx_split()\n",
    "\n",
    "X = [data[0] for data in dataset]\n",
    "y = [data[1] for data in dataset]\n",
    "\n",
    "\n",
    "def get_nx_graph(graph):\n",
    "    G = nx.Graph()\n",
    "    G.add_nodes_from(range(graph['num_nodes']))\n",
    "\n",
    "    node_list = graph['node_feat']\n",
    "    for node_number, features in enumerate(node_list):\n",
    "        G.add_node(node_number, feature=features)\n",
    "\n",
    "    edge_list = np.transpose(graph['edge_index'])\n",
    "    for node_number, (u, v) in enumerate(edge_list):\n",
    "        features = graph['edge_feat'][node_number]\n",
    "        G.add_edge(u, v, feature=features)\n",
    "\n",
    "    return G\n",
    "\n",
    "###\n",
    "\n",
    "def edges_to_nodes(\n",
    "    graph: nx.Graph\n",
    "    ) -> nx.Graph:\n",
    "    '''\n",
    "    Generates a new graph where each edge (u, v) is replaced with two edges (u, uv), (uv, v) and a new node uv.\n",
    "    The attributes of the edge are copied to the new edge.\n",
    "    This method may help if a graph embedding does not not support edge attributes.\n",
    "    '''\n",
    "    new_graph = nx.Graph()\n",
    "    max_node = max(list(graph.nodes))\n",
    "\n",
    "    # copy nodes\n",
    "    for node in nx.nodes(graph):\n",
    "        new_graph.add_node(node)\n",
    "\n",
    "        # copy node attributes\n",
    "        features = graph.nodes[node]\n",
    "        new_graph.nodes[node].update(features)\n",
    "\n",
    "    # add new nodes and their edges\n",
    "    for u, v in nx.edges(graph):\n",
    "        # new nodes are numbered starting from max(list(graph.nodes)) + 1\n",
    "        max_node += 1\n",
    "\n",
    "        # replace edge (u, v) with edges (u, max_node), (max_node, v) and node max_node\n",
    "        new_graph.add_node(max_node)\n",
    "        new_graph.add_edge(u, max_node)\n",
    "        new_graph.add_edge(max_node, v)\n",
    "\n",
    "        # copy edge attributes from (u, v) to node max_node\n",
    "        features = graph.edges[u, v]\n",
    "        new_graph.nodes[max_node].update(features)\n",
    "\n",
    "    return new_graph"
   ]
  },
  {
   "cell_type": "code",
   "execution_count": 3,
   "metadata": {},
   "outputs": [],
   "source": [
    "def one_random_walk(graph, max_length):\n",
    "    walk = []\n",
    "    walk.append(random.choice(range(graph.number_of_nodes())))\n",
    "\n",
    "    while len(walk) < max_length:\n",
    "        neighborhood = list(graph.neighbors(walk[-1]))\n",
    "        neighborhood = list(set(neighborhood) - set(walk))\n",
    "        if neighborhood:\n",
    "            walk.append(random.choice(neighborhood))\n",
    "        else:\n",
    "            break\n",
    "\n",
    "    return walk"
   ]
  },
  {
   "cell_type": "code",
   "execution_count": 4,
   "metadata": {},
   "outputs": [],
   "source": [
    "def random_walks(graph):\n",
    "    num_walks = graph.number_of_nodes()\n",
    "    walks = []\n",
    "\n",
    "    for _ in range(num_walks):\n",
    "        walks.append(one_random_walk(graph, 9999))\n",
    "\n",
    "    return walks"
   ]
  },
  {
   "cell_type": "code",
   "execution_count": 5,
   "metadata": {},
   "outputs": [],
   "source": [
    "def walks_to_string(walks):\n",
    "    the_string = ' END '.join([' '.join(['_' + str(num) + '_' for num in walk]) for walk in walks])\n",
    "\n",
    "    return the_string"
   ]
  },
  {
   "cell_type": "code",
   "execution_count": 6,
   "metadata": {},
   "outputs": [],
   "source": [
    "def get_replace_dict(graph):\n",
    "    replace_dict = dict()\n",
    "    \n",
    "    for node in range(graph.number_of_nodes()):\n",
    "        replace_dict['_' + str(node) + '_'] = ','.join([str(num) for num in graph.nodes[node]['feature']])\n",
    "\n",
    "    return replace_dict"
   ]
  },
  {
   "cell_type": "code",
   "execution_count": 7,
   "metadata": {},
   "outputs": [],
   "source": [
    "def get_paragraph(graph):\n",
    "    walks = random_walks(graph)\n",
    "    the_string = walks_to_string(walks)\n",
    "    replace_dict = get_replace_dict(graph)\n",
    "\n",
    "    pattern = '|'.join(sorted(re.escape(k) for k in replace_dict))\n",
    "\n",
    "    the_better_string = re.sub(pattern, lambda m: replace_dict.get(m.group(0).upper()), the_string, flags=re.IGNORECASE)\n",
    "\n",
    "    return(the_better_string)\n"
   ]
  },
  {
   "cell_type": "code",
   "execution_count": 8,
   "metadata": {},
   "outputs": [],
   "source": [
    "#open text file\n",
    "text_file = open(f\"{d_name}.txt\", \"w\")"
   ]
  },
  {
   "cell_type": "code",
   "execution_count": 9,
   "metadata": {},
   "outputs": [
    {
     "name": "stderr",
     "output_type": "stream",
     "text": [
      "100%|██████████| 437929/437929 [08:19<00:00, 876.19it/s]\n"
     ]
    }
   ],
   "source": [
    "for i, x in enumerate(tqdm(X)):\n",
    "    graph = get_nx_graph(x)\n",
    "    paragraph = get_paragraph(graph)\n",
    "    n = text_file.write(paragraph)\n",
    "    if i != len(X) - 1:\n",
    "        text_file.write('\\n')"
   ]
  },
  {
   "cell_type": "code",
   "execution_count": 10,
   "metadata": {},
   "outputs": [],
   "source": [
    "#close file\n",
    "text_file.close()"
   ]
  },
  {
   "cell_type": "code",
   "execution_count": null,
   "metadata": {},
   "outputs": [],
   "source": []
  }
 ],
 "metadata": {
  "kernelspec": {
   "display_name": "Python 3.8.10 64-bit",
   "language": "python",
   "name": "python3"
  },
  "language_info": {
   "codemirror_mode": {
    "name": "ipython",
    "version": 3
   },
   "file_extension": ".py",
   "mimetype": "text/x-python",
   "name": "python",
   "nbconvert_exporter": "python",
   "pygments_lexer": "ipython3",
   "version": "3.8.10 (default, Jun 22 2022, 20:18:18) \n[GCC 9.4.0]"
  },
  "orig_nbformat": 4,
  "vscode": {
   "interpreter": {
    "hash": "916dbcbb3f70747c44a77c7bcd40155683ae19c65e1c03b4aa3499c5328201f1"
   }
  }
 },
 "nbformat": 4,
 "nbformat_minor": 2
}
