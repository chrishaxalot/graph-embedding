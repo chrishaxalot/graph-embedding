{
 "cells": [
  {
   "cell_type": "code",
   "execution_count": 1,
   "metadata": {},
   "outputs": [],
   "source": [
    "from ogb.graphproppred import GraphPropPredDataset\n",
    "import random\n",
    "from tqdm import tqdm\n",
    "from gensim.models.doc2vec import Doc2Vec, TaggedDocument\n",
    "import numpy as np"
   ]
  },
  {
   "cell_type": "code",
   "execution_count": 2,
   "metadata": {},
   "outputs": [],
   "source": [
    "dataset_name = 'ogbg-molhiv'\n",
    "dataset = GraphPropPredDataset(name=dataset_name)\n",
    "split_idx = dataset.get_idx_split()"
   ]
  },
  {
   "cell_type": "code",
   "execution_count": 3,
   "metadata": {},
   "outputs": [],
   "source": [
    "def get_neighborhood(graph_dict, node):\n",
    "    neighborhood = {\n",
    "        'nodes': [],\n",
    "        'edges': []\n",
    "    }\n",
    "\n",
    "    from_nodes = graph_dict['edge_index'][0]\n",
    "    to_nodes = graph_dict['edge_index'][1]\n",
    "    \n",
    "    for index, from_node in enumerate(from_nodes):\n",
    "        if from_nodes[index] == node:\n",
    "            neighborhood['nodes'].append(to_nodes[index])\n",
    "            neighborhood['edges'].append(index)\n",
    "\n",
    "    return neighborhood\n",
    "\n",
    "def get_node_attributes(graph_dict, node):\n",
    "    return graph_dict['node_feat'][node]\n",
    "\n",
    "def get_edge_attributes(graph_dict, edge):\n",
    "    return graph_dict['edge_feat'][edge]"
   ]
  },
  {
   "cell_type": "code",
   "execution_count": 4,
   "metadata": {},
   "outputs": [],
   "source": [
    "def random_walk_evenly_distributed(graph_dict, how_often_visited):\n",
    "    walk = {\n",
    "        'vertices': [],\n",
    "        'edges': []\n",
    "    }\n",
    "\n",
    "    # initialize with invalid value to make sure that the first vertex is not removed\n",
    "    previous_vertex = -1\n",
    "\n",
    "    # choose random start vertex\n",
    "    least_visited_vertices = []\n",
    "    for i, x in enumerate(how_often_visited):\n",
    "        if x == min(how_often_visited):\n",
    "            least_visited_vertices.append(i)\n",
    "    vertex = random.choice(least_visited_vertices)\n",
    "    how_often_visited[vertex] += 1\n",
    "\n",
    "    # append the first vertex to the walk\n",
    "    walk['vertices'].append(vertex)\n",
    "\n",
    "    for _ in range(3):\n",
    "        neighborhood = get_neighborhood(graph_dict, vertex)\n",
    "        \n",
    "        # remove previous vertex from neighborhood\n",
    "        if previous_vertex in neighborhood['nodes']:\n",
    "            index_to_remove = neighborhood['nodes'].index(previous_vertex)\n",
    "            neighborhood['nodes'].pop(index_to_remove)\n",
    "            neighborhood['edges'].pop(index_to_remove)\n",
    "        previous_vertex = vertex\n",
    "\n",
    "        # if there are no more neighbors, stop\n",
    "        if len(neighborhood['nodes']) == 0:\n",
    "            break\n",
    "\n",
    "        # choose the next vertex to visit\n",
    "        edge = random.choice(neighborhood['edges'])\n",
    "        vertex = graph_dict['edge_index'][1][edge]\n",
    "        how_often_visited[vertex] += 1\n",
    "\n",
    "        # append the next vertex and edge to the walk\n",
    "        walk['edges'].append(edge)\n",
    "        walk['vertices'].append(vertex)\n",
    "\n",
    "    return walk, how_often_visited"
   ]
  },
  {
   "cell_type": "code",
   "execution_count": 5,
   "metadata": {},
   "outputs": [],
   "source": [
    "def walk_to_list_of_attributes(graph_dict, walk):\n",
    "    list = []\n",
    "\n",
    "    for i in range(len(walk['edges'])):\n",
    "        list.append(get_node_attributes(graph_dict, walk['vertices'][i]))\n",
    "        list.append(get_edge_attributes(graph_dict, walk['edges'][i]))\n",
    "    \n",
    "    list.append(get_node_attributes(graph_dict, walk['vertices'][-1]))\n",
    "\n",
    "    return list"
   ]
  },
  {
   "cell_type": "code",
   "execution_count": 6,
   "metadata": {},
   "outputs": [],
   "source": [
    "def walk_to_words(graph_dict, walk):\n",
    "    list_of_attributes = walk_to_list_of_attributes(graph_dict, walk)\n",
    "    words = [','.join([str(v) for v in attributes]) for attributes in list_of_attributes]\n",
    "    return words"
   ]
  },
  {
   "cell_type": "code",
   "execution_count": 7,
   "metadata": {},
   "outputs": [
    {
     "name": "stderr",
     "output_type": "stream",
     "text": [
      "100%|██████████| 41127/41127 [06:56<00:00, 98.77it/s] \n"
     ]
    }
   ],
   "source": [
    "f_words = open(\"words.cor\", \"w\")\n",
    "f_graph_id = open(\"graph_id.cor\", \"w\")\n",
    "\n",
    "Tagged_documents = []\n",
    "labels = []\n",
    "\n",
    "n = 100\n",
    "\n",
    "for i, (graph_dict, label) in enumerate(tqdm(dataset)):\n",
    "    how_often_visited = [0] * graph_dict['num_nodes']\n",
    "\n",
    "    for x in range(n):\n",
    "        walk, how_often_visited = random_walk_evenly_distributed(graph_dict, how_often_visited)\n",
    "        words = walk_to_words(graph_dict, walk)\n",
    "        f_words.write(f\"{' '.join((words))}\\n\")\n",
    "        f_graph_id.write(f'{str(i)}\\n')\n",
    "        \n",
    "    labels.append(label)\n",
    "\n",
    "f_words.close()\n",
    "f_graph_id.close()"
   ]
  },
  {
   "cell_type": "code",
   "execution_count": 8,
   "metadata": {},
   "outputs": [],
   "source": [
    "model = Doc2Vec(corpus_file='words.cor', workers=4, window=10)"
   ]
  },
  {
   "cell_type": "code",
   "execution_count": 9,
   "metadata": {},
   "outputs": [
    {
     "data": {
      "text/plain": [
       "(41127, 100)"
      ]
     },
     "execution_count": 9,
     "metadata": {},
     "output_type": "execute_result"
    }
   ],
   "source": [
    "X = np.array([sum([model.dv[i+(j*n)]/n for i in range(n)]) for j in range(len(dataset))])\n",
    "X.shape"
   ]
  },
  {
   "cell_type": "code",
   "execution_count": 10,
   "metadata": {},
   "outputs": [],
   "source": [
    "import numpy as np\n",
    "\n",
    "X_train = np.array([X[i] for i in split_idx['train']])\n",
    "y_train = np.array([labels[i] for i in split_idx['train']])\n",
    "\n",
    "X_test = np.array([X[i] for i in split_idx['test']])\n",
    "y_test = np.array([labels[i] for i in split_idx['test']])"
   ]
  },
  {
   "cell_type": "code",
   "execution_count": 11,
   "metadata": {},
   "outputs": [
    {
     "data": {
      "text/plain": [
       "((32901, 100), (32901, 1))"
      ]
     },
     "execution_count": 11,
     "metadata": {},
     "output_type": "execute_result"
    }
   ],
   "source": [
    "X_train.shape, y_train.shape"
   ]
  },
  {
   "cell_type": "code",
   "execution_count": 26,
   "metadata": {},
   "outputs": [
    {
     "data": {
      "text/plain": [
       "(1232, 31669)"
      ]
     },
     "execution_count": 26,
     "metadata": {},
     "output_type": "execute_result"
    }
   ],
   "source": [
    "pos_idx = [i for i, v in enumerate(y_train) if v == 1]\n",
    "neg_idx = [i for i, v in enumerate(y_train) if v == 0]\n",
    "\n",
    "len(pos_idx), len(neg_idx)"
   ]
  },
  {
   "cell_type": "code",
   "execution_count": 13,
   "metadata": {},
   "outputs": [
    {
     "data": {
      "text/plain": [
       "25.705357142857142"
      ]
     },
     "execution_count": 13,
     "metadata": {},
     "output_type": "execute_result"
    }
   ],
   "source": [
    "len(neg_idx) / len(pos_idx)"
   ]
  },
  {
   "cell_type": "code",
   "execution_count": 24,
   "metadata": {},
   "outputs": [
    {
     "name": "stderr",
     "output_type": "stream",
     "text": [
      "100%|██████████| 32901/32901 [00:00<00:00, 356309.26it/s]\n"
     ]
    }
   ],
   "source": [
    "X_train_oversampled = []\n",
    "y_train_oversampled = []\n",
    "\n",
    "for i in tqdm(range(len(X_train))):\n",
    "    current_X = X_train[i]\n",
    "    current_y = y_train[i]\n",
    "\n",
    "    if current_y == 1:\n",
    "        for _ in range(25):\n",
    "            X_train_oversampled.append(current_X)\n",
    "            y_train_oversampled.append(current_y)\n",
    "\n",
    "    X_train_oversampled.append(current_X)\n",
    "    y_train_oversampled.append(current_y)\n",
    "\n",
    "X_train_oversampled = np.array(X_train_oversampled)\n",
    "y_train_oversampled = np.array(y_train_oversampled)"
   ]
  },
  {
   "cell_type": "code",
   "execution_count": 48,
   "metadata": {},
   "outputs": [
    {
     "name": "stderr",
     "output_type": "stream",
     "text": [
      "63701it [00:08, 7444.47it/s]\n"
     ]
    }
   ],
   "source": [
    "X_train_noise = []\n",
    "y_train_noise = []\n",
    "for X, y in tqdm(zip(X_train_oversampled, y_train_oversampled)):\n",
    "    for _ in range(25):\n",
    "        X_train_noise.append(X + ((X/100) * random.uniform(-5, 5)))\n",
    "        y_train_noise.append(y)\n",
    "\n",
    "X_train_noise = np.array(X_train_noise)\n",
    "y_train_noise = np.array(y_train_noise)"
   ]
  },
  {
   "cell_type": "code",
   "execution_count": 49,
   "metadata": {},
   "outputs": [
    {
     "data": {
      "text/plain": [
       "(800800, 791725)"
      ]
     },
     "execution_count": 49,
     "metadata": {},
     "output_type": "execute_result"
    }
   ],
   "source": [
    "pos_idx = [i for i, v in enumerate(y_train_noise) if v == 1]\n",
    "neg_idx = [i for i, v in enumerate(y_train_noise) if v == 0]\n",
    "\n",
    "len(pos_idx), len(neg_idx)"
   ]
  },
  {
   "cell_type": "code",
   "execution_count": 50,
   "metadata": {},
   "outputs": [],
   "source": [
    "from sklearn.ensemble import RandomForestClassifier\n",
    "from ogb.graphproppred import Evaluator"
   ]
  },
  {
   "cell_type": "code",
   "execution_count": 51,
   "metadata": {},
   "outputs": [],
   "source": [
    "clf = RandomForestClassifier()\n",
    "clf.fit(X_train_noise, y_train_noise.ravel())"
   ]
  },
  {
   "cell_type": "code",
   "execution_count": null,
   "metadata": {},
   "outputs": [],
   "source": [
    "y_test_predicted = clf.predict(X_test)"
   ]
  },
  {
   "cell_type": "code",
   "execution_count": null,
   "metadata": {},
   "outputs": [
    {
     "data": {
      "text/plain": [
       "((4113, 1), (4113, 1))"
      ]
     },
     "execution_count": 19,
     "metadata": {},
     "output_type": "execute_result"
    }
   ],
   "source": [
    "y_test.shape, y_test_predicted.reshape(-1, 1).shape"
   ]
  },
  {
   "cell_type": "code",
   "execution_count": null,
   "metadata": {},
   "outputs": [
    {
     "data": {
      "text/plain": [
       "{'rocauc': 0.4984935977906101}"
      ]
     },
     "execution_count": 20,
     "metadata": {},
     "output_type": "execute_result"
    }
   ],
   "source": [
    "evaluator = Evaluator(name = dataset_name)\n",
    "input_dict = {\"y_true\": y_test, \"y_pred\": y_test_predicted.reshape(-1, 1)}\n",
    "result_dict = evaluator.eval(input_dict)\n",
    "result_dict"
   ]
  }
 ],
 "metadata": {
  "kernelspec": {
   "display_name": "Python 3",
   "language": "python",
   "name": "python3"
  },
  "language_info": {
   "codemirror_mode": {
    "name": "ipython",
    "version": 3
   },
   "file_extension": ".py",
   "mimetype": "text/x-python",
   "name": "python",
   "nbconvert_exporter": "python",
   "pygments_lexer": "ipython3",
   "version": "3.8.10"
  },
  "orig_nbformat": 4,
  "vscode": {
   "interpreter": {
    "hash": "31f2aee4e71d21fbe5cf8b01ff0e069b9275f58929596ceb00d14d90e3e16cd6"
   }
  }
 },
 "nbformat": 4,
 "nbformat_minor": 2
}
