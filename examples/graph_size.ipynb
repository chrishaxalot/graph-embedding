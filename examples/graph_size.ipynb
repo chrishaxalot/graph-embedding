{
 "cells": [
  {
   "cell_type": "code",
   "execution_count": 1,
   "metadata": {},
   "outputs": [],
   "source": [
    "from ogb.graphproppred import GraphPropPredDataset\n",
    "import random\n",
    "from tqdm import tqdm\n",
    "from gensim.models.doc2vec import Doc2Vec, TaggedDocument\n",
    "import numpy as np"
   ]
  },
  {
   "cell_type": "code",
   "execution_count": 2,
   "metadata": {},
   "outputs": [],
   "source": [
    "dataset_name = 'ogbg-molhiv'\n",
    "dataset = GraphPropPredDataset(name=dataset_name)\n",
    "split_idx = dataset.get_idx_split()"
   ]
  },
  {
   "cell_type": "code",
   "execution_count": 3,
   "metadata": {},
   "outputs": [],
   "source": [
    "def get_neighborhood(graph_dict, node):\n",
    "    neighborhood = {\n",
    "        'nodes': [],\n",
    "        'edges': []\n",
    "    }\n",
    "\n",
    "    from_nodes = graph_dict['edge_index'][0]\n",
    "    to_nodes = graph_dict['edge_index'][1]\n",
    "    \n",
    "    for index, from_node in enumerate(from_nodes):\n",
    "        if from_nodes[index] == node:\n",
    "            neighborhood['nodes'].append(to_nodes[index])\n",
    "            neighborhood['edges'].append(index)\n",
    "\n",
    "    return neighborhood\n",
    "\n",
    "def get_node_attributes(graph_dict, node):\n",
    "    return graph_dict['node_feat'][node]\n",
    "\n",
    "def get_edge_attributes(graph_dict, edge):\n",
    "    return graph_dict['edge_feat'][edge]"
   ]
  },
  {
   "cell_type": "code",
   "execution_count": 4,
   "metadata": {},
   "outputs": [],
   "source": [
    "def random_walk_evenly_distributed(graph_dict, how_often_visited):\n",
    "    walk = {\n",
    "        'vertices': [],\n",
    "        'edges': []\n",
    "    }\n",
    "\n",
    "    # initialize with invalid value to make sure that the first vertex is not removed\n",
    "    previous_vertex = -1\n",
    "\n",
    "    # choose random start vertex\n",
    "    least_visited_vertices = []\n",
    "    for i, x in enumerate(how_often_visited):\n",
    "        if x == min(how_often_visited):\n",
    "            least_visited_vertices.append(i)\n",
    "    vertex = random.choice(least_visited_vertices)\n",
    "    how_often_visited[vertex] += 1\n",
    "\n",
    "    # append the first vertex to the walk\n",
    "    walk['vertices'].append(vertex)\n",
    "\n",
    "    for _ in range(3):\n",
    "        neighborhood = get_neighborhood(graph_dict, vertex)\n",
    "        \n",
    "        # remove previous vertex from neighborhood\n",
    "        if previous_vertex in neighborhood['nodes']:\n",
    "            index_to_remove = neighborhood['nodes'].index(previous_vertex)\n",
    "            neighborhood['nodes'].pop(index_to_remove)\n",
    "            neighborhood['edges'].pop(index_to_remove)\n",
    "        previous_vertex = vertex\n",
    "\n",
    "        # if there are no more neighbors, stop\n",
    "        if len(neighborhood['nodes']) == 0:\n",
    "            break\n",
    "\n",
    "        # choose the next vertex to visit\n",
    "        edge = random.choice(neighborhood['edges'])\n",
    "        vertex = graph_dict['edge_index'][1][edge]\n",
    "        how_often_visited[vertex] += 1\n",
    "\n",
    "        # append the next vertex and edge to the walk\n",
    "        walk['edges'].append(edge)\n",
    "        walk['vertices'].append(vertex)\n",
    "\n",
    "    return walk, how_often_visited"
   ]
  },
  {
   "cell_type": "code",
   "execution_count": 5,
   "metadata": {},
   "outputs": [],
   "source": [
    "def walk_to_list_of_attributes(graph_dict, walk):\n",
    "    list = []\n",
    "\n",
    "    for i in range(len(walk['edges'])):\n",
    "        list.append(get_node_attributes(graph_dict, walk['vertices'][i]))\n",
    "        list.append(get_edge_attributes(graph_dict, walk['edges'][i]))\n",
    "    \n",
    "    list.append(get_node_attributes(graph_dict, walk['vertices'][-1]))\n",
    "\n",
    "    return list"
   ]
  },
  {
   "cell_type": "code",
   "execution_count": 6,
   "metadata": {},
   "outputs": [],
   "source": [
    "def walk_to_words(graph_dict, walk):\n",
    "    list_of_attributes = walk_to_list_of_attributes(graph_dict, walk)\n",
    "    words = [','.join([str(v) for v in attributes]) for attributes in list_of_attributes]\n",
    "    return words"
   ]
  },
  {
   "cell_type": "code",
   "execution_count": 7,
   "metadata": {},
   "outputs": [
    {
     "name": "stderr",
     "output_type": "stream",
     "text": [
      "100%|██████████| 41127/41127 [06:56<00:00, 98.77it/s] \n"
     ]
    }
   ],
   "source": [
    "f_words = open(\"words.cor\", \"w\")\n",
    "f_graph_id = open(\"graph_id.cor\", \"w\")\n",
    "\n",
    "Tagged_documents = []\n",
    "labels = []\n",
    "\n",
    "n = 100\n",
    "\n",
    "for i, (graph_dict, label) in enumerate(tqdm(dataset)):\n",
    "    how_often_visited = [0] * graph_dict['num_nodes']\n",
    "\n",
    "    for x in range(n):\n",
    "        walk, how_often_visited = random_walk_evenly_distributed(graph_dict, how_often_visited)\n",
    "        words = walk_to_words(graph_dict, walk)\n",
    "        f_words.write(f\"{' '.join((words))}\\n\")\n",
    "        f_graph_id.write(f'{str(i)}\\n')\n",
    "        \n",
    "    labels.append(label)\n",
    "\n",
    "f_words.close()\n",
    "f_graph_id.close()"
   ]
  },
  {
   "cell_type": "code",
   "execution_count": 8,
   "metadata": {},
   "outputs": [],
   "source": [
    "model = Doc2Vec(corpus_file='words.cor', workers=4, window=10)"
   ]
  },
  {
   "cell_type": "code",
   "execution_count": 9,
   "metadata": {},
   "outputs": [
    {
     "data": {
      "text/plain": [
       "(41127, 100)"
      ]
     },
     "execution_count": 9,
     "metadata": {},
     "output_type": "execute_result"
    }
   ],
   "source": [
    "X = np.array([sum([model.dv[i+(j*n)]/n for i in range(n)]) for j in range(len(dataset))])\n",
    "X.shape"
   ]
  },
  {
   "cell_type": "code",
   "execution_count": 10,
   "metadata": {},
   "outputs": [],
   "source": [
    "import numpy as np\n",
    "\n",
    "X_train = np.array([X[i] for i in split_idx['train']])\n",
    "y_train = np.array([labels[i] for i in split_idx['train']])\n",
    "\n",
    "X_test = np.array([X[i] for i in split_idx['test']])\n",
    "y_test = np.array([labels[i] for i in split_idx['test']])"
   ]
  },
  {
   "cell_type": "code",
   "execution_count": 11,
   "metadata": {},
   "outputs": [
    {
     "data": {
      "text/plain": [
       "((32901, 100), (32901, 1))"
      ]
     },
     "execution_count": 11,
     "metadata": {},
     "output_type": "execute_result"
    }
   ],
   "source": [
    "X_train.shape, y_train.shape"
   ]
  },
  {
   "cell_type": "code",
   "execution_count": 26,
   "metadata": {},
   "outputs": [
    {
     "data": {
      "text/plain": [
       "(1232, 31669)"
      ]
     },
     "execution_count": 26,
     "metadata": {},
     "output_type": "execute_result"
    }
   ],
   "source": [
    "pos_idx = [i for i, v in enumerate(y_train) if v == 1]\n",
    "neg_idx = [i for i, v in enumerate(y_train) if v == 0]\n",
    "\n",
    "len(pos_idx), len(neg_idx)"
   ]
  },
  {
   "cell_type": "code",
   "execution_count": 13,
   "metadata": {},
   "outputs": [
    {
     "data": {
      "text/plain": [
       "25.705357142857142"
      ]
     },
     "execution_count": 13,
     "metadata": {},
     "output_type": "execute_result"
    }
   ],
   "source": [
    "len(neg_idx) / len(pos_idx)"
   ]
  },
  {
   "cell_type": "code",
   "execution_count": 24,
   "metadata": {},
   "outputs": [
    {
     "name": "stderr",
     "output_type": "stream",
     "text": [
      "100%|██████████| 32901/32901 [00:00<00:00, 356309.26it/s]\n"
     ]
    }
   ],
   "source": [
    "X_train_oversampled = []\n",
    "y_train_oversampled = []\n",
    "\n",
    "for i in tqdm(range(len(X_train))):\n",
    "    current_X = X_train[i]\n",
    "    current_y = y_train[i]\n",
    "\n",
    "    if current_y == 1:\n",
    "        for _ in range(25):\n",
    "            X_train_oversampled.append(current_X)\n",
    "            y_train_oversampled.append(current_y)\n",
    "\n",
    "    X_train_oversampled.append(current_X)\n",
    "    y_train_oversampled.append(current_y)\n",
    "\n",
    "X_train_oversampled = np.array(X_train_oversampled)\n",
    "y_train_oversampled = np.array(y_train_oversampled)"
   ]
  },
  {
   "cell_type": "code",
   "execution_count": 42,
   "metadata": {},
   "outputs": [
    {
     "data": {
      "text/plain": [
       "array([-0.00671381, -0.02722402, -0.04510651,  0.04359213,  0.05102819,\n",
       "       -0.00299115,  0.03518374,  0.01225593, -0.02706573, -0.01187163,\n",
       "        0.04555183, -0.05908066,  0.04448931,  0.01413029, -0.02263488,\n",
       "       -0.00011427,  0.04781378, -0.0332831 ,  0.03455824, -0.04708716,\n",
       "        0.00020792, -0.04863977,  0.0419795 , -0.06628146, -0.03330714,\n",
       "       -0.01370619,  0.04872694,  0.01976873,  0.00454815,  0.01704713,\n",
       "        0.00082314, -0.00281802,  0.00085501,  0.00674836, -0.00423508,\n",
       "        0.0337445 , -0.01036651, -0.00663788,  0.01167807, -0.00771456,\n",
       "        0.02280016, -0.03889591, -0.02652053,  0.02237281, -0.02413039,\n",
       "        0.00461805,  0.03669617, -0.00484006, -0.00955559, -0.01165859,\n",
       "       -0.0121569 ,  0.02073401,  0.07243007, -0.00030634, -0.05116747,\n",
       "       -0.01048191, -0.04138548, -0.0537015 , -0.01641346,  0.04625423,\n",
       "       -0.04110098, -0.06891077,  0.00146632,  0.01159487, -0.07567436,\n",
       "       -0.00309143, -0.02305991,  0.01370543, -0.0261052 , -0.02769972,\n",
       "       -0.00996178, -0.00861914, -0.00402869, -0.00529377,  0.02202745,\n",
       "        0.0632997 , -0.05184725,  0.05545267, -0.02996711,  0.03316992,\n",
       "        0.03133637, -0.0368258 ,  0.04510939, -0.00059144, -0.01673226,\n",
       "       -0.02025874,  0.00522985, -0.01121491,  0.01987151,  0.01448016,\n",
       "       -0.06268117,  0.00365582, -0.01358988, -0.06605005, -0.00995208,\n",
       "        0.01698523,  0.03006193, -0.06976485,  0.00954463,  0.01804194],\n",
       "      dtype=float32)"
      ]
     },
     "execution_count": 42,
     "metadata": {},
     "output_type": "execute_result"
    }
   ],
   "source": [
    "X_train_noise = []\n",
    "y_train_noise = []\n",
    "for x, y in tqdm(zip(X_train_oversampled, y_train_oversampled)):\n",
    "    X_train_oversampled = X_train_oversampled[0] + ((X_train_oversampled[0]/100) * random.uniform(-5, 5))\n",
    "    y_train_oversampled"
   ]
  },
  {
   "cell_type": "code",
   "execution_count": 25,
   "metadata": {},
   "outputs": [
    {
     "data": {
      "text/plain": [
       "(32032, 31669)"
      ]
     },
     "execution_count": 25,
     "metadata": {},
     "output_type": "execute_result"
    }
   ],
   "source": [
    "pos_idx = [i for i, v in enumerate(y_train_oversampled) if v == 1]\n",
    "neg_idx = [i for i, v in enumerate(y_train_oversampled) if v == 0]\n",
    "\n",
    "len(pos_idx), len(neg_idx)"
   ]
  },
  {
   "cell_type": "code",
   "execution_count": 16,
   "metadata": {},
   "outputs": [],
   "source": [
    "from sklearn.ensemble import RandomForestClassifier\n",
    "from ogb.graphproppred import Evaluator"
   ]
  },
  {
   "cell_type": "code",
   "execution_count": 17,
   "metadata": {},
   "outputs": [
    {
     "data": {
      "text/plain": [
       "RandomForestClassifier()"
      ]
     },
     "execution_count": 17,
     "metadata": {},
     "output_type": "execute_result"
    }
   ],
   "source": [
    "clf = RandomForestClassifier()\n",
    "clf.fit(X_train_oversampled, y_train_oversampled.ravel())"
   ]
  },
  {
   "cell_type": "code",
   "execution_count": 18,
   "metadata": {},
   "outputs": [],
   "source": [
    "y_test_predicted = clf.predict(X_test)"
   ]
  },
  {
   "cell_type": "code",
   "execution_count": 19,
   "metadata": {},
   "outputs": [
    {
     "data": {
      "text/plain": [
       "((4113, 1), (4113, 1))"
      ]
     },
     "execution_count": 19,
     "metadata": {},
     "output_type": "execute_result"
    }
   ],
   "source": [
    "y_test.shape, y_test_predicted.reshape(-1, 1).shape"
   ]
  },
  {
   "cell_type": "code",
   "execution_count": 20,
   "metadata": {},
   "outputs": [
    {
     "data": {
      "text/plain": [
       "{'rocauc': 0.4984935977906101}"
      ]
     },
     "execution_count": 20,
     "metadata": {},
     "output_type": "execute_result"
    }
   ],
   "source": [
    "evaluator = Evaluator(name = dataset_name)\n",
    "input_dict = {\"y_true\": y_test, \"y_pred\": y_test_predicted.reshape(-1, 1)}\n",
    "result_dict = evaluator.eval(input_dict)\n",
    "result_dict"
   ]
  }
 ],
 "metadata": {
  "kernelspec": {
   "display_name": "Python 3",
   "language": "python",
   "name": "python3"
  },
  "language_info": {
   "codemirror_mode": {
    "name": "ipython",
    "version": 3
   },
   "file_extension": ".py",
   "mimetype": "text/x-python",
   "name": "python",
   "nbconvert_exporter": "python",
   "pygments_lexer": "ipython3",
   "version": "3.8.10"
  },
  "orig_nbformat": 4,
  "vscode": {
   "interpreter": {
    "hash": "31f2aee4e71d21fbe5cf8b01ff0e069b9275f58929596ceb00d14d90e3e16cd6"
   }
  }
 },
 "nbformat": 4,
 "nbformat_minor": 2
}
