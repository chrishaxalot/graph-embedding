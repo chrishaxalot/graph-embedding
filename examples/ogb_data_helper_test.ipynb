{
 "cells": [
  {
   "cell_type": "code",
   "execution_count": 1,
   "metadata": {},
   "outputs": [
    {
     "name": "stderr",
     "output_type": "stream",
     "text": [
      "/home/cstaib/.local/lib/python3.8/site-packages/tqdm/auto.py:22: TqdmWarning: IProgress not found. Please update jupyter and ipywidgets. See https://ipywidgets.readthedocs.io/en/stable/user_install.html\n",
      "  from .autonotebook import tqdm as notebook_tqdm\n"
     ]
    }
   ],
   "source": [
    "from graphtoolbox import OgbDataLoader, GraphHelper\n",
    "from ogb.graphproppred import GraphPropPredDataset\n",
    "import numpy as np\n",
    "from tqdm import tqdm"
   ]
  },
  {
   "cell_type": "code",
   "execution_count": 2,
   "metadata": {},
   "outputs": [],
   "source": [
    "dataset_name = 'ogbg-molhiv'"
   ]
  },
  {
   "cell_type": "code",
   "execution_count": 3,
   "metadata": {},
   "outputs": [
    {
     "name": "stderr",
     "output_type": "stream",
     "text": [
      "100%|██████████| 41127/41127 [00:10<00:00, 3775.21it/s]\n"
     ]
    }
   ],
   "source": [
    "ogb_data_loader = OgbDataLoader()\n",
    "X_raw_graphs, y, split_idx = ogb_data_loader.get_processed_dataset(dataset_name)"
   ]
  },
  {
   "cell_type": "code",
   "execution_count": null,
   "metadata": {},
   "outputs": [],
   "source": [
    "graph_helper = GraphHelper()\n",
    "\n",
    "X_graphs = [graph_helper.edges_to_nodes(graph) for graph in tqdm(X_raw_graphs)]"
   ]
  },
  {
   "cell_type": "code",
   "execution_count": 5,
   "metadata": {},
   "outputs": [
    {
     "name": "stderr",
     "output_type": "stream",
     "text": [
      " 39%|███▉      | 16136/41127 [00:55<01:18, 316.92it/s]"
     ]
    }
   ],
   "source": [
    "from graphtoolbox import RandomWalkEmbedder\n",
    "\n",
    "model = RandomWalkEmbedder(attributed=True)\n",
    "\n",
    "documents = model.generate_random_walks(X_raw_graphs)"
   ]
  },
  {
   "cell_type": "code",
   "execution_count": null,
   "metadata": {},
   "outputs": [],
   "source": [
    "text_file = open(\"documents.txt\", \"w\")\n",
    "n = text_file.write(documents)\n",
    "text_file.close()"
   ]
  },
  {
   "cell_type": "code",
   "execution_count": null,
   "metadata": {},
   "outputs": [],
   "source": [
    "# from karateclub import Graph2Vec\n",
    "# \n",
    "# model = Graph2Vec(attributed=True)\n",
    "# model.fit(X_graphs)\n",
    "# X = model.get_embedding()"
   ]
  },
  {
   "cell_type": "code",
   "execution_count": null,
   "metadata": {},
   "outputs": [],
   "source": [
    "from graphtoolbox import RandomWalkEmbedder\n",
    "\n",
    "model = RandomWalkEmbedder(attributed=True)\n",
    "model.fit(X_graphs)\n",
    "X = model.get_embedding()"
   ]
  },
  {
   "cell_type": "code",
   "execution_count": null,
   "metadata": {},
   "outputs": [],
   "source": [
    "X.shape"
   ]
  },
  {
   "cell_type": "code",
   "execution_count": null,
   "metadata": {},
   "outputs": [],
   "source": [
    "y[0].shape"
   ]
  },
  {
   "cell_type": "code",
   "execution_count": null,
   "metadata": {},
   "outputs": [],
   "source": [
    "X_train = np.array([X[i] for i in split_idx['train']])\n",
    "y_train = np.array([y[i] for i in split_idx['train']]).ravel()\n",
    "\n",
    "X_test = np.array([X[i] for i in split_idx['test']])\n",
    "y_test = np.array([y[i] for i in split_idx['test']]).ravel()"
   ]
  },
  {
   "cell_type": "code",
   "execution_count": 1,
   "metadata": {},
   "outputs": [
    {
     "ename": "NameError",
     "evalue": "name 'X_train' is not defined",
     "output_type": "error",
     "traceback": [
      "\u001b[0;31m---------------------------------------------------------------------------\u001b[0m",
      "\u001b[0;31mNameError\u001b[0m                                 Traceback (most recent call last)",
      "Cell \u001b[0;32mIn[1], line 6\u001b[0m\n\u001b[1;32m      3\u001b[0m \u001b[39mfrom\u001b[39;00m \u001b[39msklearn\u001b[39;00m\u001b[39m.\u001b[39;00m\u001b[39mpreprocessing\u001b[39;00m \u001b[39mimport\u001b[39;00m StandardScaler\n\u001b[1;32m      4\u001b[0m reg \u001b[39m=\u001b[39m make_pipeline(StandardScaler(),\n\u001b[1;32m      5\u001b[0m                     SGDRegressor(max_iter\u001b[39m=\u001b[39m\u001b[39m1000\u001b[39m, tol\u001b[39m=\u001b[39m\u001b[39m1e-3\u001b[39m))\n\u001b[0;32m----> 6\u001b[0m reg\u001b[39m.\u001b[39mfit(X_train, y_train)\n\u001b[1;32m      7\u001b[0m y_test_predictions \u001b[39m=\u001b[39m reg\u001b[39m.\u001b[39mpredict(X_test)\n",
      "\u001b[0;31mNameError\u001b[0m: name 'X_train' is not defined"
     ]
    }
   ],
   "source": [
    "from sklearn.ensemble import RandomForestClassifier\n",
    "clf = RandomForestClassifier()\n",
    "clf.fit(X_train, y_train)\n",
    "y_test_predictions = clf.predict(X_test)"
   ]
  },
  {
   "cell_type": "code",
   "execution_count": null,
   "metadata": {},
   "outputs": [],
   "source": [
    "from ogb.graphproppred import Evaluator\n",
    "\n",
    "evaluator = Evaluator(name = dataset_name)\n",
    "\n",
    "input_dict = {\"y_true\": y_test.reshape(-1, 1), \"y_pred\": y_test_predictions.reshape(-1, 1)}\n",
    "result_dict = evaluator.eval(input_dict)"
   ]
  },
  {
   "cell_type": "code",
   "execution_count": null,
   "metadata": {},
   "outputs": [],
   "source": [
    "result_dict"
   ]
  }
 ],
 "metadata": {
  "kernelspec": {
   "display_name": "Python 3",
   "language": "python",
   "name": "python3"
  },
  "language_info": {
   "codemirror_mode": {
    "name": "ipython",
    "version": 3
   },
   "file_extension": ".py",
   "mimetype": "text/x-python",
   "name": "python",
   "nbconvert_exporter": "python",
   "pygments_lexer": "ipython3",
   "version": "3.8.10 (default, Nov 14 2022, 12:59:47) \n[GCC 9.4.0]"
  },
  "orig_nbformat": 4,
  "vscode": {
   "interpreter": {
    "hash": "31f2aee4e71d21fbe5cf8b01ff0e069b9275f58929596ceb00d14d90e3e16cd6"
   }
  }
 },
 "nbformat": 4,
 "nbformat_minor": 2
}
