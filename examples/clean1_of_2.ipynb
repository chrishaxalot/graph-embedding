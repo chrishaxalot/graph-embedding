{
 "cells": [
  {
   "cell_type": "code",
   "execution_count": 1,
   "metadata": {},
   "outputs": [
    {
     "name": "stderr",
     "output_type": "stream",
     "text": [
      "/usr/lib/python3/dist-packages/requests/__init__.py:89: RequestsDependencyWarning: urllib3 (1.26.13) or chardet (3.0.4) doesn't match a supported version!\n",
      "  warnings.warn(\"urllib3 ({}) or chardet ({}) doesn't match a supported \"\n",
      "/home/cstaib/.local/lib/python3.8/site-packages/tqdm/auto.py:22: TqdmWarning: IProgress not found. Please update jupyter and ipywidgets. See https://ipywidgets.readthedocs.io/en/stable/user_install.html\n",
      "  from .autonotebook import tqdm as notebook_tqdm\n"
     ]
    }
   ],
   "source": [
    "import pandas as pd\n",
    "import numpy as np\n",
    "import networkx as nx\n",
    "import random\n",
    "import re\n",
    "\n",
    "from graphtoolbox import GraphHelper, OgbDataHelper, RandomWalker\n",
    "\n",
    "from tqdm import tqdm\n",
    "\n",
    "from ogb.graphproppred import GraphPropPredDataset"
   ]
  },
  {
   "cell_type": "code",
   "execution_count": 2,
   "metadata": {},
   "outputs": [
    {
     "name": "stdout",
     "output_type": "stream",
     "text": [
      "Downloading http://snap.stanford.edu/ogb/data/graphproppred/csv_mol_download/freesolv.zip\n"
     ]
    },
    {
     "name": "stderr",
     "output_type": "stream",
     "text": [
      "Downloaded 0.00 GB: 100%|██████████| 2/2 [00:00<00:00, 12.20it/s]\n"
     ]
    },
    {
     "name": "stdout",
     "output_type": "stream",
     "text": [
      "Extracting dataset/freesolv.zip\n",
      "Loading necessary files...\n",
      "This might take a while.\n",
      "Processing graphs...\n"
     ]
    },
    {
     "name": "stderr",
     "output_type": "stream",
     "text": [
      "100%|██████████| 642/642 [00:00<00:00, 95980.87it/s]\n"
     ]
    },
    {
     "name": "stdout",
     "output_type": "stream",
     "text": [
      "Saving...\n"
     ]
    }
   ],
   "source": [
    "d_name = 'ogbg-molfreesolv'\n",
    "dataset = GraphPropPredDataset(name=d_name)\n",
    "split_idx = dataset.get_idx_split()\n",
    "\n",
    "X_raw = [data[0] for data in dataset]\n",
    "y = [data[1] for data in dataset]"
   ]
  },
  {
   "cell_type": "code",
   "execution_count": 3,
   "metadata": {},
   "outputs": [],
   "source": [
    "graph = X_raw[0]"
   ]
  },
  {
   "cell_type": "code",
   "execution_count": 4,
   "metadata": {},
   "outputs": [],
   "source": [
    "SENTENCE_END_SYMBOL = ' END '\n",
    "WORD_END_SYMBOL = ' '"
   ]
  },
  {
   "cell_type": "code",
   "execution_count": 5,
   "metadata": {},
   "outputs": [],
   "source": [
    "def walks_to_string(walks):\n",
    "    the_string = SENTENCE_END_SYMBOL.join(\n",
    "        [WORD_END_SYMBOL.join([f'_{str(num)}_' for num in walk]) for walk in walks])\n",
    "\n",
    "    return the_string\n",
    "\n",
    "def get_replace_dict(graph):\n",
    "    replace_dict = dict()\n",
    "                \n",
    "    for node in range(graph.number_of_nodes()):\n",
    "        replace_dict['_' + str(node) + '_'] = ','.join([str(num) for num in graph.nodes[node]['feature']])\n",
    "\n",
    "    \n",
    "    #for node in range(graph.number_of_nodes()):\n",
    "    #    replace_dict['_' + str(node) + '_'] = str(graph.nodes[node]['feature'][0])\n",
    "            \n",
    "    return replace_dict"
   ]
  },
  {
   "cell_type": "code",
   "execution_count": 6,
   "metadata": {},
   "outputs": [],
   "source": [
    "def get_paragraph(graph):\n",
    "    random_walker = RandomWalker()\n",
    "    walks = random_walker.random_walks(graph, num_walks=graph.number_of_nodes())\n",
    "    the_string = walks_to_string(walks)\n",
    "    replace_dict = get_replace_dict(graph)\n",
    "\n",
    "    pattern = '|'.join(sorted(re.escape(k) for k in replace_dict))\n",
    "\n",
    "    the_better_string = re.sub(pattern, lambda m: replace_dict.get(m.group(0).upper()), the_string, flags=re.IGNORECASE)\n",
    "\n",
    "    return(the_better_string)"
   ]
  },
  {
   "cell_type": "code",
   "execution_count": 8,
   "metadata": {},
   "outputs": [
    {
     "name": "stderr",
     "output_type": "stream",
     "text": [
      "100%|██████████| 642/642 [00:00<00:00, 3766.71it/s]\n"
     ]
    }
   ],
   "source": [
    "ogb_data_helper = OgbDataHelper()\n",
    "text_file = open(f\"{d_name}.txt\", \"w\")\n",
    "\n",
    "for i, x in enumerate(tqdm(X_raw)):\n",
    "    graph = ogb_data_helper.get_nx_graph(x)\n",
    "    paragraph = get_paragraph(graph)\n",
    "    n = text_file.write(paragraph)\n",
    "    if i != len(X_raw) - 1:\n",
    "        text_file.write('\\n')\n",
    "\n",
    "text_file.close()"
   ]
  },
  {
   "cell_type": "code",
   "execution_count": 9,
   "metadata": {},
   "outputs": [
    {
     "data": {
      "text/plain": [
       "{'feature': array([5, 0, 4, 5, 2, 0, 2, 0, 1])}"
      ]
     },
     "execution_count": 9,
     "metadata": {},
     "output_type": "execute_result"
    }
   ],
   "source": [
    "random_walker = RandomWalker()\n",
    "graph = ogb_data_helper.get_nx_graph(x)\n",
    "walks = random_walker.random_walks(graph, num_walks=graph.number_of_nodes())\n",
    "\n",
    "graph.nodes[0]"
   ]
  }
 ],
 "metadata": {
  "kernelspec": {
   "display_name": "Python 3",
   "language": "python",
   "name": "python3"
  },
  "language_info": {
   "codemirror_mode": {
    "name": "ipython",
    "version": 3
   },
   "file_extension": ".py",
   "mimetype": "text/x-python",
   "name": "python",
   "nbconvert_exporter": "python",
   "pygments_lexer": "ipython3",
   "version": "3.8.10"
  },
  "orig_nbformat": 4,
  "vscode": {
   "interpreter": {
    "hash": "916dbcbb3f70747c44a77c7bcd40155683ae19c65e1c03b4aa3499c5328201f1"
   }
  }
 },
 "nbformat": 4,
 "nbformat_minor": 2
}
