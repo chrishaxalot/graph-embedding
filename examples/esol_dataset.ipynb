{
 "cells": [
  {
   "cell_type": "code",
   "execution_count": 1,
   "metadata": {},
   "outputs": [
    {
     "name": "stderr",
     "output_type": "stream",
     "text": [
      "/home/cstaib/.local/lib/python3.8/site-packages/tqdm/auto.py:22: TqdmWarning: IProgress not found. Please update jupyter and ipywidgets. See https://ipywidgets.readthedocs.io/en/stable/user_install.html\n",
      "  from .autonotebook import tqdm as notebook_tqdm\n"
     ]
    }
   ],
   "source": [
    "import random\n",
    "import re\n",
    "\n",
    "import networkx as nx\n",
    "import numpy as np\n",
    "import pandas as pd\n",
    "from karateclub import Graph2Vec\n",
    "from ogb.graphproppred import GraphPropPredDataset\n",
    "from sklearn.model_selection import train_test_split\n",
    "from tqdm import tqdm\n",
    "\n",
    "from graphtoolbox.graph_embedding import RandomWalkEmbedder\n",
    "from graphtoolbox.helpers import OgbDataHelper, GraphHelper"
   ]
  },
  {
   "cell_type": "code",
   "execution_count": 2,
   "metadata": {},
   "outputs": [],
   "source": [
    "d_name = 'ogbg-molfreesolv'\n",
    "dataset = GraphPropPredDataset(name=d_name)\n",
    "split_idx = dataset.get_idx_split()\n",
    "\n",
    "X_raw = np.array([data[0] for data in dataset])\n",
    "target = np.array([data[1] for data in dataset])"
   ]
  },
  {
   "cell_type": "code",
   "execution_count": 3,
   "metadata": {},
   "outputs": [],
   "source": [
    "ogb_data_helper = OgbDataHelper()\n",
    "graph_helper = GraphHelper()"
   ]
  },
  {
   "cell_type": "code",
   "execution_count": 4,
   "metadata": {},
   "outputs": [
    {
     "name": "stderr",
     "output_type": "stream",
     "text": [
      "/tmp/ipykernel_19368/858231069.py:6: VisibleDeprecationWarning: Creating an ndarray from ragged nested sequences (which is a list-or-tuple of lists-or-tuples-or ndarrays with different lengths or shapes) is deprecated. If you meant to do this, you must specify 'dtype=object' when creating the ndarray.\n",
      "  extra_graphs = np.array([graph_helper.edges_to_nodes(ogb_data_helper.get_nx_graph(x_raw)) for x_raw in X_raw])\n"
     ]
    }
   ],
   "source": [
    "extra_d_name = 'ogbg-molhiv'\n",
    "extra_dataset = GraphPropPredDataset(name=d_name)\n",
    "extra_split_idx = dataset.get_idx_split()\n",
    "\n",
    "extra_X_raw = np.array([data[0] for data in dataset])\n",
    "extra_graphs = np.array([graph_helper.edges_to_nodes(ogb_data_helper.get_nx_graph(x_raw)) for x_raw in X_raw])"
   ]
  },
  {
   "cell_type": "code",
   "execution_count": 5,
   "metadata": {},
   "outputs": [
    {
     "name": "stderr",
     "output_type": "stream",
     "text": [
      "/tmp/ipykernel_19368/89424096.py:1: VisibleDeprecationWarning: Creating an ndarray from ragged nested sequences (which is a list-or-tuple of lists-or-tuples-or ndarrays with different lengths or shapes) is deprecated. If you meant to do this, you must specify 'dtype=object' when creating the ndarray.\n",
      "  graphs = np.array([graph_helper.edges_to_nodes(ogb_data_helper.get_nx_graph(x_raw)) for x_raw in X_raw])\n"
     ]
    }
   ],
   "source": [
    "graphs = np.array([graph_helper.edges_to_nodes(ogb_data_helper.get_nx_graph(x_raw)) for x_raw in X_raw])"
   ]
  },
  {
   "cell_type": "code",
   "execution_count": 6,
   "metadata": {},
   "outputs": [],
   "source": [
    "how_many_original = len(graphs)\n",
    "graphs = np.concatenate([graphs, extra_graphs])"
   ]
  },
  {
   "cell_type": "code",
   "execution_count": 7,
   "metadata": {},
   "outputs": [],
   "source": [
    "embedder = RandomWalkEmbedder(attributed=True)\n",
    "#embedder = Graph2Vec(attributed=True)"
   ]
  },
  {
   "cell_type": "code",
   "execution_count": 8,
   "metadata": {},
   "outputs": [],
   "source": [
    "embedder.fit(graphs)\n",
    "X_embedded = embedder.get_embedding()[:how_many_original]\n",
    "X_train, X_test, y_train, y_test = train_test_split(X_embedded, target, test_size=0.33)"
   ]
  },
  {
   "cell_type": "code",
   "execution_count": 9,
   "metadata": {},
   "outputs": [
    {
     "name": "stderr",
     "output_type": "stream",
     "text": [
      "/home/cstaib/.local/lib/python3.8/site-packages/sklearn/utils/validation.py:1141: DataConversionWarning: A column-vector y was passed when a 1d array was expected. Please change the shape of y to (n_samples, ), for example using ravel().\n",
      "  y = column_or_1d(y, warn=True)\n"
     ]
    }
   ],
   "source": [
    "from sklearn import svm\n",
    "regressor = svm.SVR()\n",
    "y_test_predicted = regressor.fit(X_train, y_train).predict(X_test)"
   ]
  },
  {
   "cell_type": "code",
   "execution_count": 10,
   "metadata": {},
   "outputs": [
    {
     "data": {
      "text/plain": [
       "<matplotlib.collections.PathCollection at 0x7f8e62c02cd0>"
      ]
     },
     "execution_count": 10,
     "metadata": {},
     "output_type": "execute_result"
    },
    {
     "data": {
      "image/png": "[encoded data removed]",
      "text/plain": [
       "<Figure size 640x480 with 1 Axes>"
      ]
     },
     "metadata": {},
     "output_type": "display_data"
    }
   ],
   "source": [
    "import matplotlib.pyplot as plt\n",
    "plt.scatter(y_test, y_test_predicted)"
   ]
  }
 ],
 "metadata": {
  "kernelspec": {
   "display_name": "Python 3",
   "language": "python",
   "name": "python3"
  },
  "language_info": {
   "codemirror_mode": {
    "name": "ipython",
    "version": 3
   },
   "file_extension": ".py",
   "mimetype": "text/x-python",
   "name": "python",
   "nbconvert_exporter": "python",
   "pygments_lexer": "ipython3",
   "version": "3.8.10"
  },
  "orig_nbformat": 4,
  "vscode": {
   "interpreter": {
    "hash": "31f2aee4e71d21fbe5cf8b01ff0e069b9275f58929596ceb00d14d90e3e16cd6"
   }
  }
 },
 "nbformat": 4,
 "nbformat_minor": 2
}
